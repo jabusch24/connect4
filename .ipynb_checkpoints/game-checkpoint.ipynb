{
 "cells": [
  {
   "cell_type": "code",
   "execution_count": 4,
   "metadata": {},
   "outputs": [
    {
     "data": {
      "text/plain": [
       "tensor(0.1601)"
      ]
     },
     "execution_count": 4,
     "metadata": {},
     "output_type": "execute_result"
    }
   ],
   "source": [
    "torch.tensor([-0.0648, -0.2435, -0.2134, -0.1580, -0.0259,  0.1601,  0.0802]).max(0)[0]"
   ]
  },
  {
   "cell_type": "code",
   "execution_count": 13,
   "metadata": {},
   "outputs": [],
   "source": [
    "x = torch.from_numpy(s.flatten())"
   ]
  },
  {
   "cell_type": "code",
   "execution_count": 14,
   "metadata": {},
   "outputs": [
    {
     "data": {
      "text/plain": [
       "tensor([0., 0., 0., 0., 0., 0., 0., 0., 0., 0., 0., 0., 0., 0., 0., 0., 0., 0.,\n",
       "        0., 0., 0., 0., 0., 0., 0., 0., 0., 0., 0., 0., 0., 0., 0., 0., 0., 0.,\n",
       "        0., 0., 0., 0., 0., 0.], dtype=torch.float64)"
      ]
     },
     "execution_count": 14,
     "metadata": {},
     "output_type": "execute_result"
    }
   ],
   "source": [
    "x"
   ]
  },
  {
   "cell_type": "code",
   "execution_count": 1,
   "metadata": {},
   "outputs": [
    {
     "name": "stdout",
     "output_type": "stream",
     "text": [
      "\n",
      "\u001b[0;0mX \u001b[0;0m\u001b[1;36mO \u001b[0;0m\u001b[1;36mO \u001b[0;0m\u001b[1;36mO \u001b[0;0m\u001b[1;36mO \u001b[0;0m\u001b[1;36mO \u001b[0;0m\u001b[1;36mO \u001b[0;0m\u001b[1;36mO \u001b[0;0mX \n",
      "\u001b[0;0mX \u001b[0;0m\u001b[1;36mO \u001b[0;0m\u001b[1;36mO \u001b[0;0m\u001b[1;36mO \u001b[0;0m\u001b[1;36mO \u001b[0;0m\u001b[1;36mO \u001b[0;0m\u001b[1;36mO \u001b[0;0m\u001b[1;36mO \u001b[0;0mX \n",
      "\u001b[0;0mX \u001b[0;0m\u001b[1;36mO \u001b[0;0m\u001b[1;36mO \u001b[0;0m\u001b[1;36mO \u001b[0;0m\u001b[1;36mO \u001b[0;0m\u001b[1;36mO \u001b[0;0m\u001b[1;36mO \u001b[0;0m\u001b[1;36mO \u001b[0;0mX \n",
      "\u001b[0;0mX \u001b[0;0m\u001b[1;36mO \u001b[0;0m\u001b[1;36mO \u001b[0;0m\u001b[1;36mO \u001b[0;0m\u001b[1;36mO \u001b[0;0m\u001b[1;36mO \u001b[0;0m\u001b[1;36mO \u001b[0;0m\u001b[1;36mO \u001b[0;0mX \n",
      "\u001b[0;0mX \u001b[0;0m\u001b[1;36mO \u001b[0;0m\u001b[1;36mO \u001b[0;0m\u001b[1;36mO \u001b[0;0m\u001b[1;36mO \u001b[0;0m\u001b[1;36mO \u001b[0;0m\u001b[1;36mO \u001b[0;0m\u001b[1;36mO \u001b[0;0mX \n",
      "\u001b[0;0mX \u001b[0;0m\u001b[1;36mO \u001b[0;0m\u001b[1;36mO \u001b[0;0m\u001b[1;36mO \u001b[0;0m\u001b[1;36mO \u001b[0;0m\u001b[1;36mO \u001b[0;0m\u001b[1;36mO \u001b[0;0m\u001b[1;36mO \u001b[0;0mX \n",
      "\u001b[0;0mX \u001b[0;0mX \u001b[0;0mX \u001b[0;0mX \u001b[0;0mX \u001b[0;0mX \u001b[0;0mX \u001b[0;0mX \u001b[0;0mX \n",
      "Model's state_dict:\n",
      "fc1.weight \t torch.Size([42, 42])\n",
      "fc1.bias \t torch.Size([42])\n",
      "fc2.weight \t torch.Size([7, 42])\n",
      "fc2.bias \t torch.Size([7])\n"
     ]
    }
   ],
   "source": [
    "import numpy as np\n",
    "import matplotlib.pyplot as plt\n",
    "from game import Game\n",
    "import os\n",
    "from util.getkey import get_manual_arrow_key\n",
    "\n",
    "\n",
    "import torch\n",
    "import torch.nn as nn\n",
    "import torch.optim as optim\n",
    "import torch.nn.functional as F\n",
    "\n",
    "# define actions\n",
    "actions = (1,2,3,4,5,6,7)\n",
    "\n",
    "# define Q-Network\n",
    "class QNetwork(nn.Module):\n",
    "\n",
    "    def __init__(self, state_space, action_space):\n",
    "        super(QNetwork, self).__init__()\n",
    "        # TODO YOUR CODE HERE - simple network\n",
    "        self.fc1 = torch.nn.Linear(in_features=state_space, out_features=state_space)\n",
    "        self.fc2 = torch.nn.Linear(in_features=state_space, out_features=action_space)\n",
    "        self.state_space = state_space\n",
    "\n",
    "    def forward(self, x):\n",
    "        #x = self.one_hot_encoding(x)\n",
    "        # TODO YOUR CODE HERE\n",
    "        x = torch.from_numpy(x)\n",
    "        x = x.to('cuda', torch.float)\n",
    "        x = torch.tanh(self.fc1(x))\n",
    "        x = self.fc2(x)\n",
    "        return x\n",
    "\n",
    "    def one_hot_encoding(self, x):\n",
    "        '''\n",
    "        One-hot encodes the input data, based on the defined state_space.\n",
    "        '''\n",
    "        out_tensor = torch.zeros([1, state_space])\n",
    "        out_tensor[0][x] = 1\n",
    "        return out_tensor\n",
    "\n",
    "# Make use of cuda\n",
    "device = torch.device(\"cuda\" if torch.cuda.is_available() else \"cpu\")\n",
    "\n",
    "# Init Game Instance\n",
    "game = Game(render=True)\n",
    "\n",
    "# Define State and Action Space\n",
    "state_space = game.max_row * game.max_col\n",
    "action_space = len(actions)\n",
    "\n",
    "# Set learning parameters\n",
    "e = 0.1  # epsilon\n",
    "lr = .03  # learning rate\n",
    "y = .999  # discount factor\n",
    "num_episodes = 3\n",
    "\n",
    "# create lists to contain total rewards and steps per episode\n",
    "jList = []\n",
    "rList = []\n",
    "\n",
    "# init Q-Network\n",
    "agent = QNetwork(state_space, action_space).to(device)\n",
    "\n",
    "# load existing model if exists:\n",
    "if 'model.pt' in os.listdir('./'):\n",
    "    agent.load_state_dict(torch.load('./model.pt'))\n",
    "    print(\"Model's state_dict:\")\n",
    "    for param_tensor in agent.state_dict():\n",
    "        print(param_tensor, \"\\t\", agent.state_dict()[param_tensor].size())"
   ]
  }
 ],
 "metadata": {
  "kernelspec": {
   "display_name": "Python 3",
   "language": "python",
   "name": "python3"
  },
  "language_info": {
   "codemirror_mode": {
    "name": "ipython",
    "version": 3
   },
   "file_extension": ".py",
   "mimetype": "text/x-python",
   "name": "python",
   "nbconvert_exporter": "python",
   "pygments_lexer": "ipython3",
   "version": "3.6.8"
  }
 },
 "nbformat": 4,
 "nbformat_minor": 2
}
